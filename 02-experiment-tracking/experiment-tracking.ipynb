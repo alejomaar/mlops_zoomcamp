{
 "cells": [
  {
   "cell_type": "code",
   "execution_count": 1,
   "metadata": {},
   "outputs": [
    {
     "name": "stdout",
     "output_type": "stream",
     "text": [
      "  % Total    % Received % Xferd  Average Speed   Time    Time     Time  Current\n",
      "                                 Dload  Upload   Total   Spent    Left  Speed\n",
      "100 1224k  100 1224k    0     0  1419k      0 --:--:-- --:--:-- --:--:-- 1417k\n",
      "  % Total    % Received % Xferd  Average Speed   Time    Time     Time  Current\n",
      "                                 Dload  Upload   Total   Spent    Left  Speed\n",
      "100 1394k  100 1394k    0     0  1739k      0 --:--:-- --:--:-- --:--:-- 1736k\n",
      "  % Total    % Received % Xferd  Average Speed   Time    Time     Time  Current\n",
      "                                 Dload  Upload   Total   Spent    Left  Speed\n",
      "100 1577k  100 1577k    0     0  2046k      0 --:--:-- --:--:-- --:--:-- 2043k\n"
     ]
    }
   ],
   "source": [
    "!(cd ./data/raw && curl -O https://d37ci6vzurychx.cloudfront.net/trip-data/green_tripdata_2022-01.parquet)\n",
    "!(cd ./data/raw && curl -O https://d37ci6vzurychx.cloudfront.net/trip-data/green_tripdata_2022-02.parquet)\n",
    "!(cd ./data/raw && curl -O https://d37ci6vzurychx.cloudfront.net/trip-data/green_tripdata_2022-03.parquet)"
   ]
  },
  {
   "cell_type": "code",
   "execution_count": 4,
   "metadata": {},
   "outputs": [],
   "source": [
    "!python -m homework.preprocess_data --raw_data_path ./data/raw --dest_path ./data/preprocess --dataset green"
   ]
  },
  {
   "cell_type": "code",
   "execution_count": 5,
   "metadata": {},
   "outputs": [
    {
     "name": "stdout",
     "output_type": "stream",
     "text": [
      "152K\t./data/preprocess/dv.pkl\n"
     ]
    }
   ],
   "source": [
    "!du -sh ./data/preprocess/dv.pkl"
   ]
  }
 ],
 "metadata": {
  "kernelspec": {
   "display_name": "02-experiment-tracking-U0Hg0LYt",
   "language": "python",
   "name": "python3"
  },
  "language_info": {
   "codemirror_mode": {
    "name": "ipython",
    "version": 3
   },
   "file_extension": ".py",
   "mimetype": "text/x-python",
   "name": "python",
   "nbconvert_exporter": "python",
   "pygments_lexer": "ipython3",
   "version": "3.9.16"
  },
  "orig_nbformat": 4
 },
 "nbformat": 4,
 "nbformat_minor": 2
}
